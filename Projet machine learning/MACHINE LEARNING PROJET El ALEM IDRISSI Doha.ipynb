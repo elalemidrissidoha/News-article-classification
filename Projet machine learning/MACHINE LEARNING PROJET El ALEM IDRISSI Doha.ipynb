{
 "cells": [
  {
   "cell_type": "markdown",
   "id": "1c5241db",
   "metadata": {},
   "source": [
    "# L'acquisition de données"
   ]
  },
  {
   "cell_type": "markdown",
   "id": "776bbfad",
   "metadata": {},
   "source": [
    "### Séparation des articles"
   ]
  },
  {
   "cell_type": "code",
   "execution_count": 147,
   "id": "e51db549",
   "metadata": {},
   "outputs": [
    {
     "name": "stdout",
     "output_type": "stream",
     "text": [
      "le nbr d'articles pour chaque catégorie : \n",
      "culture :  36 \n",
      "economie :  21 \n",
      "politique 28 \n",
      "societe :  28 \n",
      "sport :  29\n"
     ]
    }
   ],
   "source": [
    "import numpy as np\n",
    "import pandas as pd\n",
    "\n",
    "#Fonction pour collecter les articles de chaque fichier .txt\n",
    "def ArticleCollect(filename): \n",
    "    final_data=[]\n",
    "    data = pd.read_csv(filename,sep=\"\\n\",header=None)\n",
    "    temp=\"\"\n",
    "    for i in range(len(data)):\n",
    "        if '----------' not in data[0][i]:\n",
    "            temp+= \"\". join(data[0][i])\n",
    "        else:\n",
    "            final_data.append(temp)\n",
    "            temp=\"\"\n",
    "            continue\n",
    "    final_data.append(temp)\n",
    "    return final_data\n",
    "\n",
    "#Application de la fonction pour chaque .txt\n",
    "\n",
    "culture=ArticleCollect('culture.txt')\n",
    "economie=ArticleCollect('economie.txt')\n",
    "politique=ArticleCollect('politique.txt')\n",
    "societe=ArticleCollect('societe.txt')\n",
    "sport=ArticleCollect('sport.txt')\n",
    "\n",
    "#vérification du nombre d'articles dans chaque .txt\n",
    "print(\"le nbr d'articles pour chaque catégorie : \")\n",
    "print(\"culture : \",len(culture),\"\\neconomie : \",len(economie),\"\\npolitique\",len(politique),\n",
    "     \"\\nsociete : \",len(societe),\"\\nsport : \",len(sport))\n"
   ]
  },
  {
   "cell_type": "markdown",
   "id": "164b987d",
   "metadata": {},
   "source": [
    "### regrouper les fichiers dans une seule data set"
   ]
  },
  {
   "cell_type": "code",
   "execution_count": 149,
   "id": "523cae45",
   "metadata": {
    "scrolled": true
   },
   "outputs": [
    {
     "data": {
      "text/html": [
       "<div>\n",
       "<style scoped>\n",
       "    .dataframe tbody tr th:only-of-type {\n",
       "        vertical-align: middle;\n",
       "    }\n",
       "\n",
       "    .dataframe tbody tr th {\n",
       "        vertical-align: top;\n",
       "    }\n",
       "\n",
       "    .dataframe thead th {\n",
       "        text-align: right;\n",
       "    }\n",
       "</style>\n",
       "<table border=\"1\" class=\"dataframe\">\n",
       "  <thead>\n",
       "    <tr style=\"text-align: right;\">\n",
       "      <th></th>\n",
       "      <th>Article</th>\n",
       "      <th>Categorie</th>\n",
       "    </tr>\n",
       "  </thead>\n",
       "  <tbody>\n",
       "    <tr>\n",
       "      <th>0</th>\n",
       "      <td>La célébration de Rabat capitale de la culture...</td>\n",
       "      <td>culture</td>\n",
       "    </tr>\n",
       "    <tr>\n",
       "      <th>1</th>\n",
       "      <td>Les productions de la Société Nationale de Rad...</td>\n",
       "      <td>culture</td>\n",
       "    </tr>\n",
       "    <tr>\n",
       "      <th>2</th>\n",
       "      <td>La Fondation pour la Sauvegarde du Patrimoine ...</td>\n",
       "      <td>culture</td>\n",
       "    </tr>\n",
       "    <tr>\n",
       "      <th>3</th>\n",
       "      <td>La Présidence du ministère public participera,...</td>\n",
       "      <td>culture</td>\n",
       "    </tr>\n",
       "    <tr>\n",
       "      <th>4</th>\n",
       "      <td>Le Centre régional arabe pour le patrimoine mo...</td>\n",
       "      <td>culture</td>\n",
       "    </tr>\n",
       "    <tr>\n",
       "      <th>...</th>\n",
       "      <td>...</td>\n",
       "      <td>...</td>\n",
       "    </tr>\n",
       "    <tr>\n",
       "      <th>137</th>\n",
       "      <td>Liverpool a publié un communiqué disant qu’il ...</td>\n",
       "      <td>sport</td>\n",
       "    </tr>\n",
       "    <tr>\n",
       "      <th>138</th>\n",
       "      <td>Le Real Madrid a dominé Liverpool (1-0), ce sa...</td>\n",
       "      <td>sport</td>\n",
       "    </tr>\n",
       "    <tr>\n",
       "      <th>139</th>\n",
       "      <td>Le Youssoufia de Berrechid (CAYB) s’est qualif...</td>\n",
       "      <td>sport</td>\n",
       "    </tr>\n",
       "    <tr>\n",
       "      <th>140</th>\n",
       "      <td>Le coup d’envoi de la finale de Ligue des cham...</td>\n",
       "      <td>sport</td>\n",
       "    </tr>\n",
       "    <tr>\n",
       "      <th>141</th>\n",
       "      <td>Chelsea a annoncé samedi qu’un « accord final ...</td>\n",
       "      <td>sport</td>\n",
       "    </tr>\n",
       "  </tbody>\n",
       "</table>\n",
       "<p>142 rows × 2 columns</p>\n",
       "</div>"
      ],
      "text/plain": [
       "                                               Article Categorie\n",
       "0    La célébration de Rabat capitale de la culture...   culture\n",
       "1    Les productions de la Société Nationale de Rad...   culture\n",
       "2    La Fondation pour la Sauvegarde du Patrimoine ...   culture\n",
       "3    La Présidence du ministère public participera,...   culture\n",
       "4    Le Centre régional arabe pour le patrimoine mo...   culture\n",
       "..                                                 ...       ...\n",
       "137  Liverpool a publié un communiqué disant qu’il ...     sport\n",
       "138  Le Real Madrid a dominé Liverpool (1-0), ce sa...     sport\n",
       "139  Le Youssoufia de Berrechid (CAYB) s’est qualif...     sport\n",
       "140  Le coup d’envoi de la finale de Ligue des cham...     sport\n",
       "141  Chelsea a annoncé samedi qu’un « accord final ...     sport\n",
       "\n",
       "[142 rows x 2 columns]"
      ]
     },
     "execution_count": 149,
     "metadata": {},
     "output_type": "execute_result"
    }
   ],
   "source": [
    "pd_culture=pd.DataFrame({'Article':culture,'Categorie':'culture'})\n",
    "pd_eco=pd.DataFrame({'Article':economie,'Categorie':'economie'})\n",
    "pd_politique=pd.DataFrame({'Article':politique,'Categorie':'politique'})\n",
    "pd_societe=pd.DataFrame({'Article':societe,'Categorie':'societe'})\n",
    "pd_sport=pd.DataFrame({'Article':sport,'Categorie':'sport'})\n",
    "\n",
    "dataset = pd.concat([pd_culture,pd_eco,pd_politique,pd_societe,pd_sport],ignore_index=True) \n",
    "dataset  #142 lignes et 2 colonnes"
   ]
  },
  {
   "cell_type": "markdown",
   "id": "04099c5a",
   "metadata": {},
   "source": [
    "### Indexation des categories"
   ]
  },
  {
   "cell_type": "code",
   "execution_count": 150,
   "id": "371ec22b",
   "metadata": {},
   "outputs": [
    {
     "data": {
      "text/html": [
       "<div>\n",
       "<style scoped>\n",
       "    .dataframe tbody tr th:only-of-type {\n",
       "        vertical-align: middle;\n",
       "    }\n",
       "\n",
       "    .dataframe tbody tr th {\n",
       "        vertical-align: top;\n",
       "    }\n",
       "\n",
       "    .dataframe thead th {\n",
       "        text-align: right;\n",
       "    }\n",
       "</style>\n",
       "<table border=\"1\" class=\"dataframe\">\n",
       "  <thead>\n",
       "    <tr style=\"text-align: right;\">\n",
       "      <th></th>\n",
       "      <th>Article</th>\n",
       "      <th>Categorie</th>\n",
       "      <th>CategoryId</th>\n",
       "    </tr>\n",
       "  </thead>\n",
       "  <tbody>\n",
       "    <tr>\n",
       "      <th>0</th>\n",
       "      <td>La célébration de Rabat capitale de la culture...</td>\n",
       "      <td>culture</td>\n",
       "      <td>0</td>\n",
       "    </tr>\n",
       "    <tr>\n",
       "      <th>1</th>\n",
       "      <td>Les productions de la Société Nationale de Rad...</td>\n",
       "      <td>culture</td>\n",
       "      <td>0</td>\n",
       "    </tr>\n",
       "    <tr>\n",
       "      <th>2</th>\n",
       "      <td>La Fondation pour la Sauvegarde du Patrimoine ...</td>\n",
       "      <td>culture</td>\n",
       "      <td>0</td>\n",
       "    </tr>\n",
       "    <tr>\n",
       "      <th>3</th>\n",
       "      <td>La Présidence du ministère public participera,...</td>\n",
       "      <td>culture</td>\n",
       "      <td>0</td>\n",
       "    </tr>\n",
       "    <tr>\n",
       "      <th>4</th>\n",
       "      <td>Le Centre régional arabe pour le patrimoine mo...</td>\n",
       "      <td>culture</td>\n",
       "      <td>0</td>\n",
       "    </tr>\n",
       "  </tbody>\n",
       "</table>\n",
       "</div>"
      ],
      "text/plain": [
       "                                             Article Categorie  CategoryId\n",
       "0  La célébration de Rabat capitale de la culture...   culture           0\n",
       "1  Les productions de la Société Nationale de Rad...   culture           0\n",
       "2  La Fondation pour la Sauvegarde du Patrimoine ...   culture           0\n",
       "3  La Présidence du ministère public participera,...   culture           0\n",
       "4  Le Centre régional arabe pour le patrimoine mo...   culture           0"
      ]
     },
     "execution_count": 150,
     "metadata": {},
     "output_type": "execute_result"
    }
   ],
   "source": [
    "#On associe un numéro à chaque catégorie \n",
    "dataset['CategoryId'] = dataset['Categorie'].factorize()[0]\n",
    "dataset.head() #affichage des 5 premières lignes"
   ]
  },
  {
   "cell_type": "code",
   "execution_count": 151,
   "id": "f1d0b50c",
   "metadata": {},
   "outputs": [
    {
     "name": "stdout",
     "output_type": "stream",
     "text": [
      "     Categorie  CategoryId\n",
      "0      culture           0\n",
      "36    economie           1\n",
      "57   politique           2\n",
      "85     societe           3\n",
      "113      sport           4\n"
     ]
    }
   ],
   "source": [
    "category = dataset[['Categorie', 'CategoryId']].drop_duplicates().sort_values('CategoryId')\n",
    "print(category)"
   ]
  },
  {
   "cell_type": "markdown",
   "id": "38de6671",
   "metadata": {},
   "source": [
    "### Visualisation"
   ]
  },
  {
   "cell_type": "code",
   "execution_count": 152,
   "id": "ad87e59b",
   "metadata": {},
   "outputs": [
    {
     "data": {
      "text/plain": [
       "<AxesSubplot:xlabel='Categorie', ylabel='count'>"
      ]
     },
     "execution_count": 152,
     "metadata": {},
     "output_type": "execute_result"
    },
    {
     "data": {
      "image/png": "[encoded data removed]",
      "text/plain": [
       "<Figure size 432x288 with 1 Axes>"
      ]
     },
     "metadata": {
      "needs_background": "light"
     },
     "output_type": "display_data"
    }
   ],
   "source": [
    "import seaborn as sns\n",
    "sns.countplot(dataset.Categorie)\n",
    "#nombre d'articles en fonction de catégorie"
   ]
  },
  {
   "cell_type": "markdown",
   "id": "89e95c1f",
   "metadata": {},
   "source": [
    "# La préparation et le nettoyage de la donnée"
   ]
  },
  {
   "cell_type": "markdown",
   "id": "5c50d4f7",
   "metadata": {},
   "source": [
    "### Feature Engineering"
   ]
  },
  {
   "cell_type": "code",
   "execution_count": 153,
   "id": "4ae888d5",
   "metadata": {},
   "outputs": [
    {
     "name": "stderr",
     "output_type": "stream",
     "text": [
      "[nltk_data] Downloading package stopwords to\n",
      "[nltk_data]     C:\\Users\\admin\\AppData\\Roaming\\nltk_data...\n",
      "[nltk_data]   Package stopwords is already up-to-date!\n"
     ]
    }
   ],
   "source": [
    "import string\n",
    "import re\n",
    "import nltk\n",
    "from nltk.corpus import stopwords\n",
    "nltk.download('stopwords')\n",
    "\n",
    "# objectifs de la fonction netoyage :\n",
    "#Convertir tout en minuscules\n",
    "#Suppression des stopwords\n",
    "#Suppression des ponctuations\n",
    "\n",
    "def netoyage(corpus_ensemble_documents):\n",
    "    for i in range(len(corpus_ensemble_documents)):\n",
    "        corpus_ensemble_documents[i]=corpus_ensemble_documents[i].lower()\n",
    "    for i in range(len(corpus_ensemble_documents)):\n",
    "        for c in string.punctuation:\n",
    "            x=corpus_ensemble_documents[i].replace(c,' ')\n",
    "            corpus_ensemble_documents[i]=x\n",
    "    stopwords_anglais=stopwords.words('french') #ou french\n",
    "    for i in range(len(corpus_ensemble_documents)):\n",
    "        L=corpus_ensemble_documents[i].split()\n",
    "        for mot in L:\n",
    "            if mot in stopwords_anglais:\n",
    "                while mot in L:\n",
    "                    L.remove(mot)\n",
    "        corpus_ensemble_documents[i]=\" \".join(L)\n",
    "    return corpus_ensemble_documents\n",
    "\n",
    "def remove_tags(text):\n",
    "    remove = re.compile(r'')\n",
    "    return re.sub(remove, '', text)\n",
    "\n",
    "def special_char(text):\n",
    "    reviews = ''\n",
    "    for x in text:\n",
    "        if x.isalnum():\n",
    "            reviews = reviews + x\n",
    "        else:\n",
    "            reviews = reviews + ' '\n",
    "    return reviews\n"
   ]
  },
  {
   "cell_type": "code",
   "execution_count": 166,
   "id": "acf25c80",
   "metadata": {},
   "outputs": [
    {
     "data": {
      "text/html": [
       "<div>\n",
       "<style scoped>\n",
       "    .dataframe tbody tr th:only-of-type {\n",
       "        vertical-align: middle;\n",
       "    }\n",
       "\n",
       "    .dataframe tbody tr th {\n",
       "        vertical-align: top;\n",
       "    }\n",
       "\n",
       "    .dataframe thead th {\n",
       "        text-align: right;\n",
       "    }\n",
       "</style>\n",
       "<table border=\"1\" class=\"dataframe\">\n",
       "  <thead>\n",
       "    <tr style=\"text-align: right;\">\n",
       "      <th></th>\n",
       "      <th>Article</th>\n",
       "      <th>Categorie</th>\n",
       "      <th>CategoryId</th>\n",
       "    </tr>\n",
       "  </thead>\n",
       "  <tbody>\n",
       "    <tr>\n",
       "      <th>0</th>\n",
       "      <td>célébration rabat capital culture africain avo...</td>\n",
       "      <td>culture</td>\n",
       "      <td>0</td>\n",
       "    </tr>\n",
       "    <tr>\n",
       "      <th>1</th>\n",
       "      <td>production société national radiodiffusion tél...</td>\n",
       "      <td>culture</td>\n",
       "      <td>0</td>\n",
       "    </tr>\n",
       "    <tr>\n",
       "      <th>2</th>\n",
       "      <td>fondation sauvegard patrimoine culturel rabat ...</td>\n",
       "      <td>culture</td>\n",
       "      <td>0</td>\n",
       "    </tr>\n",
       "    <tr>\n",
       "      <th>3</th>\n",
       "      <td>présidence ministère public participer deuxièm...</td>\n",
       "      <td>culture</td>\n",
       "      <td>0</td>\n",
       "    </tr>\n",
       "    <tr>\n",
       "      <th>4</th>\n",
       "      <td>centre régional arabe patrimoine mondial arc w...</td>\n",
       "      <td>culture</td>\n",
       "      <td>0</td>\n",
       "    </tr>\n",
       "    <tr>\n",
       "      <th>...</th>\n",
       "      <td>...</td>\n",
       "      <td>...</td>\n",
       "      <td>...</td>\n",
       "    </tr>\n",
       "    <tr>\n",
       "      <th>137</th>\n",
       "      <td>liverpool avoir publier communiquer dire extrê...</td>\n",
       "      <td>sport</td>\n",
       "      <td>4</td>\n",
       "    </tr>\n",
       "    <tr>\n",
       "      <th>138</th>\n",
       "      <td>real madrid avoir dominer liverpool 1 0 samedi...</td>\n",
       "      <td>sport</td>\n",
       "      <td>4</td>\n",
       "    </tr>\n",
       "    <tr>\n",
       "      <th>139</th>\n",
       "      <td>youssoufia berrechid cayb être qualifier demi ...</td>\n",
       "      <td>sport</td>\n",
       "      <td>4</td>\n",
       "    </tr>\n",
       "    <tr>\n",
       "      <th>140</th>\n",
       "      <td>coup envoi final ligu champion liverpool real ...</td>\n",
       "      <td>sport</td>\n",
       "      <td>4</td>\n",
       "    </tr>\n",
       "    <tr>\n",
       "      <th>141</th>\n",
       "      <td>chelsea avoir annoncer samedi accord final déf...</td>\n",
       "      <td>sport</td>\n",
       "      <td>4</td>\n",
       "    </tr>\n",
       "  </tbody>\n",
       "</table>\n",
       "<p>142 rows × 3 columns</p>\n",
       "</div>"
      ],
      "text/plain": [
       "                                               Article Categorie  CategoryId\n",
       "0    célébration rabat capital culture africain avo...   culture           0\n",
       "1    production société national radiodiffusion tél...   culture           0\n",
       "2    fondation sauvegard patrimoine culturel rabat ...   culture           0\n",
       "3    présidence ministère public participer deuxièm...   culture           0\n",
       "4    centre régional arabe patrimoine mondial arc w...   culture           0\n",
       "..                                                 ...       ...         ...\n",
       "137  liverpool avoir publier communiquer dire extrê...     sport           4\n",
       "138  real madrid avoir dominer liverpool 1 0 samedi...     sport           4\n",
       "139  youssoufia berrechid cayb être qualifier demi ...     sport           4\n",
       "140  coup envoi final ligu champion liverpool real ...     sport           4\n",
       "141  chelsea avoir annoncer samedi accord final déf...     sport           4\n",
       "\n",
       "[142 rows x 3 columns]"
      ]
     },
     "execution_count": 166,
     "metadata": {},
     "output_type": "execute_result"
    }
   ],
   "source": [
    "dataset['Article'] = dataset['Article'].apply(special_char)\n",
    "dataset['Article'] = dataset['Article'].apply(remove_tags)\n",
    "data=dataset['Article'].to_numpy()\n",
    "netoyage(data)\n",
    "dataset"
   ]
  },
  {
   "cell_type": "code",
   "execution_count": 161,
   "id": "15323cf7",
   "metadata": {},
   "outputs": [
    {
     "data": {
      "text/plain": [
       "<spacy_lefff.lefff.LefffLemmatizer at 0x1ac44a8af10>"
      ]
     },
     "execution_count": 161,
     "metadata": {},
     "output_type": "execute_result"
    }
   ],
   "source": [
    "#Removing Stopwords\n",
    "def remove_stopwords(text):\n",
    "    stop_words = set(stopwords.words('french'))\n",
    "    words = word_tokenize(text)\n",
    "    return [x for x in words if x not in stop_words]\n",
    "\n",
    "#Lemmetising the words\n",
    "def myJoin(text):\n",
    "    return \" \".join([word for word in text])\n",
    "#lemmetize\n",
    "import spacy\n",
    "from spacy_lefff import LefffLemmatizer, POSTagger\n",
    "from spacy.language import Language\n",
    " \n",
    "#@Language.factory('french_lemmatizer')\n",
    "def create_french_lemmatizer(nlp, name):\n",
    "    return LefffLemmatizer(after_melt=True, default=True)\n",
    "\n",
    "#@Language.factory('melt_tagger')  \n",
    "def create_melt_tagger(nlp, name):\n",
    "    return POSTagger()\n",
    " \n",
    "nlp = spacy.load('fr_core_news_sm')\n",
    "nlp.add_pipe('melt_tagger', after='parser')\n",
    "nlp.add_pipe('french_lemmatizer', after='melt_tagger')\n",
    "\n"
   ]
  },
  {
   "cell_type": "code",
   "execution_count": 162,
   "id": "27f534cf",
   "metadata": {},
   "outputs": [],
   "source": [
    "def myLemmetize(text):\n",
    "    doc = nlp(text)\n",
    "    return \" \".join([word.lemma_ for word in doc])"
   ]
  },
  {
   "cell_type": "code",
   "execution_count": 163,
   "id": "d7355193",
   "metadata": {},
   "outputs": [],
   "source": [
    "dataset['Article'] = dataset['Article'].apply(myLemmetize)"
   ]
  },
  {
   "cell_type": "code",
   "execution_count": 167,
   "id": "428d77df",
   "metadata": {},
   "outputs": [
    {
     "data": {
      "text/html": [
       "<div>\n",
       "<style scoped>\n",
       "    .dataframe tbody tr th:only-of-type {\n",
       "        vertical-align: middle;\n",
       "    }\n",
       "\n",
       "    .dataframe tbody tr th {\n",
       "        vertical-align: top;\n",
       "    }\n",
       "\n",
       "    .dataframe thead th {\n",
       "        text-align: right;\n",
       "    }\n",
       "</style>\n",
       "<table border=\"1\" class=\"dataframe\">\n",
       "  <thead>\n",
       "    <tr style=\"text-align: right;\">\n",
       "      <th></th>\n",
       "      <th>Article</th>\n",
       "      <th>Categorie</th>\n",
       "      <th>CategoryId</th>\n",
       "    </tr>\n",
       "  </thead>\n",
       "  <tbody>\n",
       "    <tr>\n",
       "      <th>0</th>\n",
       "      <td>célébration rabat capital culture africain avo...</td>\n",
       "      <td>culture</td>\n",
       "      <td>0</td>\n",
       "    </tr>\n",
       "    <tr>\n",
       "      <th>1</th>\n",
       "      <td>production société national radiodiffusion tél...</td>\n",
       "      <td>culture</td>\n",
       "      <td>0</td>\n",
       "    </tr>\n",
       "    <tr>\n",
       "      <th>2</th>\n",
       "      <td>fondation sauvegard patrimoine culturel rabat ...</td>\n",
       "      <td>culture</td>\n",
       "      <td>0</td>\n",
       "    </tr>\n",
       "    <tr>\n",
       "      <th>3</th>\n",
       "      <td>présidence ministère public participer deuxièm...</td>\n",
       "      <td>culture</td>\n",
       "      <td>0</td>\n",
       "    </tr>\n",
       "    <tr>\n",
       "      <th>4</th>\n",
       "      <td>centre régional arabe patrimoine mondial arc w...</td>\n",
       "      <td>culture</td>\n",
       "      <td>0</td>\n",
       "    </tr>\n",
       "    <tr>\n",
       "      <th>...</th>\n",
       "      <td>...</td>\n",
       "      <td>...</td>\n",
       "      <td>...</td>\n",
       "    </tr>\n",
       "    <tr>\n",
       "      <th>137</th>\n",
       "      <td>liverpool avoir publier communiquer dire extrê...</td>\n",
       "      <td>sport</td>\n",
       "      <td>4</td>\n",
       "    </tr>\n",
       "    <tr>\n",
       "      <th>138</th>\n",
       "      <td>real madrid avoir dominer liverpool 1 0 samedi...</td>\n",
       "      <td>sport</td>\n",
       "      <td>4</td>\n",
       "    </tr>\n",
       "    <tr>\n",
       "      <th>139</th>\n",
       "      <td>youssoufia berrechid cayb être qualifier demi ...</td>\n",
       "      <td>sport</td>\n",
       "      <td>4</td>\n",
       "    </tr>\n",
       "    <tr>\n",
       "      <th>140</th>\n",
       "      <td>coup envoi final ligu champion liverpool real ...</td>\n",
       "      <td>sport</td>\n",
       "      <td>4</td>\n",
       "    </tr>\n",
       "    <tr>\n",
       "      <th>141</th>\n",
       "      <td>chelsea avoir annoncer samedi accord final déf...</td>\n",
       "      <td>sport</td>\n",
       "      <td>4</td>\n",
       "    </tr>\n",
       "  </tbody>\n",
       "</table>\n",
       "<p>142 rows × 3 columns</p>\n",
       "</div>"
      ],
      "text/plain": [
       "                                               Article Categorie  CategoryId\n",
       "0    célébration rabat capital culture africain avo...   culture           0\n",
       "1    production société national radiodiffusion tél...   culture           0\n",
       "2    fondation sauvegard patrimoine culturel rabat ...   culture           0\n",
       "3    présidence ministère public participer deuxièm...   culture           0\n",
       "4    centre régional arabe patrimoine mondial arc w...   culture           0\n",
       "..                                                 ...       ...         ...\n",
       "137  liverpool avoir publier communiquer dire extrê...     sport           4\n",
       "138  real madrid avoir dominer liverpool 1 0 samedi...     sport           4\n",
       "139  youssoufia berrechid cayb être qualifier demi ...     sport           4\n",
       "140  coup envoi final ligu champion liverpool real ...     sport           4\n",
       "141  chelsea avoir annoncer samedi accord final déf...     sport           4\n",
       "\n",
       "[142 rows x 3 columns]"
      ]
     },
     "execution_count": 167,
     "metadata": {},
     "output_type": "execute_result"
    }
   ],
   "source": [
    "dataset"
   ]
  },
  {
   "cell_type": "markdown",
   "id": "0950fedd",
   "metadata": {},
   "source": [
    "### Diviser data par training data and 30%testing data"
   ]
  },
  {
   "cell_type": "code",
   "execution_count": 168,
   "id": "6bd15249",
   "metadata": {},
   "outputs": [],
   "source": [
    "from sklearn.feature_extraction.text import CountVectorizer,TfidfVectorizer\n",
    "from sklearn.model_selection import train_test_split,GridSearchCV\n"
   ]
  },
  {
   "cell_type": "code",
   "execution_count": 169,
   "id": "c7a7ad92",
   "metadata": {},
   "outputs": [],
   "source": [
    "ngram_range = (1,2)\n",
    "min_df = 10\n",
    "max_df = 1.\n",
    "max_features = 300  \n",
    "x = np.array(dataset.iloc[:,0].values)\n",
    "y = np.array(dataset.CategoryId.values)\n",
    "tfidf = TfidfVectorizer(encoding='utf-8',\n",
    "                        ngram_range=ngram_range,\n",
    "                        stop_words=None,\n",
    "                        lowercase=False,\n",
    "                        max_df=max_df,\n",
    "                        min_df=min_df,\n",
    "                        max_features=max_features,\n",
    "                        norm='l2',\n",
    "                        sublinear_tf=True)\n",
    "                        \n",
    "tfidfFit = tfidf.fit_transform(dataset.Article).toarray()\n",
    "#labels_train = y_train\n",
    "#print(features_train)\n",
    "\n",
    "#features_test = tfidf.transform(X_test).toarray()\n",
    "#labels_test = y_test\n",
    "#print(features_test.shape)\n",
    "features_train, features_test, labels_train, labels_test = train_test_split(tfidfFit, \n",
    "                                                    y, \n",
    "                                                    test_size=0.3)"
   ]
  },
  {
   "cell_type": "markdown",
   "id": "3d0bf443",
   "metadata": {},
   "source": [
    "### Construction des modéles (CLASSIFICATION)"
   ]
  },
  {
   "cell_type": "code",
   "execution_count": 170,
   "id": "752ab4a2",
   "metadata": {},
   "outputs": [],
   "source": [
    "from sklearn.linear_model import LogisticRegression\n",
    "from sklearn.tree import DecisionTreeClassifier\n",
    "from sklearn.neighbors import KNeighborsClassifier\n",
    "from sklearn.svm import SVC, LinearSVC\n",
    "from sklearn.ensemble import RandomForestClassifier\n",
    "from sklearn.tree import DecisionTreeRegressor\n",
    "from sklearn.metrics import * \n",
    "from sklearn.model_selection import cross_val_score"
   ]
  },
  {
   "cell_type": "markdown",
   "id": "f68d43dc",
   "metadata": {},
   "source": [
    "### Random Forest (sans et avec optimization)"
   ]
  },
  {
   "cell_type": "code",
   "execution_count": 382,
   "id": "78a06a2e",
   "metadata": {},
   "outputs": [
    {
     "name": "stdout",
     "output_type": "stream",
     "text": [
      "La moyenne de 10 Accuracy Test (Random Forest Classifier ):  0.7372093023255815\n"
     ]
    }
   ],
   "source": [
    "from sklearn.ensemble import RandomForestClassifier\n",
    "s=0\n",
    "for i in range(0,10): \n",
    "    model  = RandomForestClassifier()\n",
    "    model.fit(features_train, labels_train)\n",
    "    model_predictions = model.predict(features_test)\n",
    "    accRF=accuracy_score(labels_test, model_predictions)\n",
    "    s+=accRF\n",
    "accRF=s/10\n",
    "print('La moyenne de 10 Accuracy Test (Random Forest Classifier ): ', accRF)"
   ]
  },
  {
   "cell_type": "code",
   "execution_count": 383,
   "id": "122ecd03",
   "metadata": {},
   "outputs": [
    {
     "data": {
      "text/plain": [
       "{'bootstrap': True,\n",
       " 'ccp_alpha': 0.0,\n",
       " 'class_weight': None,\n",
       " 'criterion': 'gini',\n",
       " 'max_depth': None,\n",
       " 'max_features': 'auto',\n",
       " 'max_leaf_nodes': None,\n",
       " 'max_samples': None,\n",
       " 'min_impurity_decrease': 0.0,\n",
       " 'min_impurity_split': None,\n",
       " 'min_samples_leaf': 1,\n",
       " 'min_samples_split': 2,\n",
       " 'min_weight_fraction_leaf': 0.0,\n",
       " 'n_estimators': 100,\n",
       " 'n_jobs': None,\n",
       " 'oob_score': False,\n",
       " 'random_state': None,\n",
       " 'verbose': 0,\n",
       " 'warm_start': False}"
      ]
     },
     "execution_count": 383,
     "metadata": {},
     "output_type": "execute_result"
    }
   ],
   "source": [
    "model.get_params()"
   ]
  },
  {
   "cell_type": "code",
   "execution_count": 386,
   "id": "74639508",
   "metadata": {},
   "outputs": [
    {
     "name": "stdout",
     "output_type": "stream",
     "text": [
      "Fitting 3 folds for each of 16 candidates, totalling 48 fits\n"
     ]
    },
    {
     "name": "stderr",
     "output_type": "stream",
     "text": [
      "[Parallel(n_jobs=-1)]: Using backend LokyBackend with 4 concurrent workers.\n",
      "[Parallel(n_jobs=-1)]: Done  48 out of  48 | elapsed:   42.5s finished\n"
     ]
    }
   ],
   "source": [
    "#tunning\n",
    "from sklearn.model_selection import GridSearchCV\n",
    "n_estimators = [800, 1200]\n",
    "max_depth = [7, 9]\n",
    "min_samples_split = [2, 5]\n",
    "min_samples_leaf = [3, 5] \n",
    "\n",
    "hyperF = dict(n_estimators = n_estimators, max_depth = max_depth,  \n",
    "              min_samples_split = min_samples_split, \n",
    "             min_samples_leaf = min_samples_leaf)\n",
    "\n",
    "gridF = GridSearchCV(model, hyperF, cv = 3, verbose = 1, \n",
    "                      n_jobs = -1)\n",
    "bestF = gridF.fit(features_train, labels_train)"
   ]
  },
  {
   "cell_type": "code",
   "execution_count": 387,
   "id": "3cce704f",
   "metadata": {},
   "outputs": [
    {
     "data": {
      "text/plain": [
       "{'max_depth': 7,\n",
       " 'min_samples_leaf': 3,\n",
       " 'min_samples_split': 5,\n",
       " 'n_estimators': 800}"
      ]
     },
     "execution_count": 387,
     "metadata": {},
     "output_type": "execute_result"
    }
   ],
   "source": [
    "bestF.best_params_"
   ]
  },
  {
   "cell_type": "code",
   "execution_count": 388,
   "id": "4a94ae88",
   "metadata": {},
   "outputs": [
    {
     "name": "stdout",
     "output_type": "stream",
     "text": [
      "La moyenne de 10 Accuracy Test (Random Forest Classifier avec Grid Search):  0.7232558139534883\n"
     ]
    }
   ],
   "source": [
    "from sklearn.ensemble import RandomForestClassifier\n",
    "s=0\n",
    "for i in range(0,10):   \n",
    "    model1  = RandomForestClassifier(max_depth= 7, min_samples_leaf= 3, min_samples_split= 5, n_estimators= 800)\n",
    "    model1.fit(features_train, labels_train)\n",
    "    model_predictions = model1.predict(features_test)\n",
    "    acc=accuracy_score(labels_test, model_predictions)\n",
    "    s=s+acc\n",
    "accRFGridSearch=s/10\n",
    "print('La moyenne de 10 Accuracy Test (Random Forest Classifier avec Grid Search): ', accRFGridSearch)"
   ]
  },
  {
   "cell_type": "markdown",
   "id": "b0e7fedd",
   "metadata": {},
   "source": [
    "### Logistic regression (sans et avec optimization)"
   ]
  },
  {
   "cell_type": "code",
   "execution_count": 235,
   "id": "3d6639af",
   "metadata": {},
   "outputs": [
    {
     "name": "stdout",
     "output_type": "stream",
     "text": [
      "{'C': 1.0, 'class_weight': None, 'dual': False, 'fit_intercept': True, 'intercept_scaling': 1, 'l1_ratio': None, 'max_iter': 100, 'multi_class': 'auto', 'n_jobs': None, 'penalty': 'l2', 'random_state': None, 'solver': 'lbfgs', 'tol': 0.0001, 'verbose': 0, 'warm_start': False}\n",
      "La moyenne de 10 Accuracy Test (LogisticRegression):  0.7209302325581394\n"
     ]
    }
   ],
   "source": [
    "model = LogisticRegression()\n",
    "print(model.get_params())\n",
    "s=0\n",
    "for i in range(0,10):   \n",
    "    model.fit(features_train, labels_train)\n",
    "    model_predictions = model.predict(features_test)\n",
    "    acc=accuracy_score(labels_test, model_predictions)\n",
    "    s=s+acc\n",
    "accLR=s/10\n",
    "print('La moyenne de 10 Accuracy Test (LogisticRegression): ', accLR)"
   ]
  },
  {
   "cell_type": "markdown",
   "id": "98d31209",
   "metadata": {},
   "source": [
    "### Hyper Parameter Tuning (Logistic Regression)"
   ]
  },
  {
   "cell_type": "code",
   "execution_count": 236,
   "id": "667f0058",
   "metadata": {},
   "outputs": [
    {
     "name": "stdout",
     "output_type": "stream",
     "text": [
      "Fitting 3 folds for each of 6 candidates, totalling 18 fits\n"
     ]
    },
    {
     "name": "stderr",
     "output_type": "stream",
     "text": [
      "[Parallel(n_jobs=1)]: Using backend SequentialBackend with 1 concurrent workers.\n",
      "[Parallel(n_jobs=1)]: Done  18 out of  18 | elapsed:    0.2s finished\n"
     ]
    },
    {
     "data": {
      "text/plain": [
       "{'C': 100, 'penalty': 'l2'}"
      ]
     },
     "execution_count": 236,
     "metadata": {},
     "output_type": "execute_result"
    }
   ],
   "source": [
    "param_grid = {'C': [0.1,0.001,100],\n",
    "    # Create a list of options for the regularization penalty\n",
    "    'penalty' : ['l1', 'l2'] }\n",
    "clf = GridSearchCV(model, param_grid, cv = 3, verbose = 1)\n",
    "\n",
    "bestF = clf.fit(features_train, labels_train)\n",
    "bestF.best_params_"
   ]
  },
  {
   "cell_type": "code",
   "execution_count": 237,
   "id": "681cadc0",
   "metadata": {},
   "outputs": [
    {
     "name": "stdout",
     "output_type": "stream",
     "text": [
      "La moyenne de 10 Accuracy Test (LogisticRegression avec Grid Search):  0.8139534883720929\n"
     ]
    }
   ],
   "source": [
    "s=0\n",
    "for i in range(0,10):  \n",
    "    model = LogisticRegression(C=100,solver='liblinear',penalty='l2')\n",
    "    model.fit(features_train, labels_train)\n",
    "    model_predictions = model.predict(features_test)\n",
    "    acc=accuracy_score(labels_test, model_predictions)\n",
    "    s=s+acc\n",
    "accLRGridSearch=s/10\n",
    "print('La moyenne de 10 Accuracy Test (LogisticRegression avec Grid Search): ', accLRGridSearch)\n"
   ]
  },
  {
   "cell_type": "markdown",
   "id": "db5dc6a8",
   "metadata": {},
   "source": [
    "### KNeighborsClassifier avec hyper parameter tunning"
   ]
  },
  {
   "cell_type": "code",
   "execution_count": 238,
   "id": "5d18776b",
   "metadata": {
    "scrolled": true
   },
   "outputs": [
    {
     "name": "stdout",
     "output_type": "stream",
     "text": [
      "La moyenne de 10 Accuracy Test (KNeighbors Classifier):  0.7674418604651162\n"
     ]
    }
   ],
   "source": [
    "s=0\n",
    "for i in range(0,10):  \n",
    "    model = KNeighborsClassifier()\n",
    "    model.fit(features_train, labels_train)\n",
    "    model_predictions = model.predict(features_test)\n",
    "    acc=accuracy_score(labels_test, model_predictions)\n",
    "    s=s+acc\n",
    "accKNN=s/10\n",
    "print('La moyenne de 10 Accuracy Test (KNeighbors Classifier): ', accKNN)"
   ]
  },
  {
   "cell_type": "code",
   "execution_count": 218,
   "id": "ccb15835",
   "metadata": {},
   "outputs": [
    {
     "data": {
      "text/plain": [
       "{'algorithm': 'auto',\n",
       " 'leaf_size': 30,\n",
       " 'metric': 'minkowski',\n",
       " 'metric_params': None,\n",
       " 'n_jobs': None,\n",
       " 'n_neighbors': 5,\n",
       " 'p': 2,\n",
       " 'weights': 'uniform'}"
      ]
     },
     "execution_count": 218,
     "metadata": {},
     "output_type": "execute_result"
    }
   ],
   "source": [
    "model.get_params()"
   ]
  },
  {
   "cell_type": "code",
   "execution_count": 239,
   "id": "c4a26a19",
   "metadata": {},
   "outputs": [
    {
     "name": "stdout",
     "output_type": "stream",
     "text": [
      "Fitting 5 folds for each of 21 candidates, totalling 105 fits\n"
     ]
    },
    {
     "name": "stderr",
     "output_type": "stream",
     "text": [
      "[Parallel(n_jobs=-1)]: Using backend LokyBackend with 4 concurrent workers.\n",
      "[Parallel(n_jobs=-1)]: Done  56 tasks      | elapsed:    3.9s\n",
      "[Parallel(n_jobs=-1)]: Done 105 out of 105 | elapsed:    4.1s finished\n"
     ]
    }
   ],
   "source": [
    "model = KNeighborsClassifier()\n",
    "\n",
    "from sklearn.model_selection import GridSearchCV\n",
    "params_KNN = {'n_neighbors': [1, 2, 3, 4, 5, 6, 7], \n",
    "              'p': [1, 2, 5]}\n",
    "\n",
    "\n",
    "gridF = GridSearchCV(model, params_KNN, cv = 5, verbose = 1, \n",
    "                      n_jobs = -1)\n",
    "bestF = gridF.fit(features_train, labels_train)"
   ]
  },
  {
   "cell_type": "code",
   "execution_count": 240,
   "id": "f6636d23",
   "metadata": {},
   "outputs": [
    {
     "data": {
      "text/plain": [
       "{'n_neighbors': 4, 'p': 2}"
      ]
     },
     "execution_count": 240,
     "metadata": {},
     "output_type": "execute_result"
    }
   ],
   "source": [
    "bestF.best_params_"
   ]
  },
  {
   "cell_type": "code",
   "execution_count": 231,
   "id": "1aaff9db",
   "metadata": {},
   "outputs": [
    {
     "name": "stdout",
     "output_type": "stream",
     "text": [
      "La moyenne de 10 Accuracy Test (KNeighbors Classifier avec Grid Search):  0.7441860465116278\n"
     ]
    }
   ],
   "source": [
    "s=0\n",
    "for i in range(0,10):  \n",
    "    model = KNeighborsClassifier(n_neighbors=4,p=2)\n",
    "    model.fit(features_train, labels_train)\n",
    "    model_predictions = model.predict(features_test)\n",
    "    acc=accuracy_score(labels_test, model_predictions)\n",
    "    s=s+acc\n",
    "accKNNGridSearch=s/10\n",
    "print('La moyenne de 10 Accuracy Test (KNeighbors Classifier avec Grid Search): ', accKNNGridSearch)"
   ]
  },
  {
   "cell_type": "markdown",
   "id": "c6780c27",
   "metadata": {},
   "source": [
    "### Decision tree avec tunning"
   ]
  },
  {
   "cell_type": "code",
   "execution_count": 251,
   "id": "94a7dc5b",
   "metadata": {},
   "outputs": [
    {
     "name": "stdout",
     "output_type": "stream",
     "text": [
      "La moyenne de 10 Accuracy Test (Decision Tree):  0.5139534883720931\n"
     ]
    }
   ],
   "source": [
    "s=0\n",
    "for i in range(0,10):  \n",
    "    model = DecisionTreeClassifier()\n",
    "    model.fit(features_train, labels_train)\n",
    "    model_predictions = model.predict(features_test)\n",
    "    acc=accuracy_score(labels_test, model_predictions)\n",
    "    s=s+acc\n",
    "accDT=s/10\n",
    "print('La moyenne de 10 Accuracy Test (Decision Tree): ', accDT)"
   ]
  },
  {
   "cell_type": "code",
   "execution_count": 261,
   "id": "2f9518d4",
   "metadata": {},
   "outputs": [
    {
     "name": "stdout",
     "output_type": "stream",
     "text": [
      "Fitting 3 folds for each of 10 candidates, totalling 30 fits\n"
     ]
    },
    {
     "name": "stderr",
     "output_type": "stream",
     "text": [
      "[Parallel(n_jobs=1)]: Using backend SequentialBackend with 1 concurrent workers.\n",
      "[Parallel(n_jobs=1)]: Done  30 out of  30 | elapsed:    0.1s finished\n"
     ]
    }
   ],
   "source": [
    "import numpy as np\n",
    "from scipy.stats import randint\n",
    "from sklearn.model_selection import GridSearchCV,RandomizedSearchCV\n",
    "\n",
    "min_samples_leaf = [1,2,3,4,5,6,7,9]\n",
    "\n",
    "criterion = ['gini', 'entropy']\n",
    "max_depth = [3,None]\n",
    "\n",
    "\n",
    "\n",
    "hyperF = dict(max_depth=max_depth,\n",
    "                      criterion=criterion,\n",
    "                      min_samples_leaf=min_samples_leaf)\n",
    "\n",
    "model  = DecisionTreeClassifier(random_state=1)\n",
    "gridF = RandomizedSearchCV(model, hyperF, cv = 3, verbose = 1)\n",
    "bestF = gridF.fit(features_train, labels_train)"
   ]
  },
  {
   "cell_type": "code",
   "execution_count": 262,
   "id": "0d393c8d",
   "metadata": {},
   "outputs": [
    {
     "data": {
      "text/plain": [
       "{'min_samples_leaf': 7, 'max_depth': None, 'criterion': 'gini'}"
      ]
     },
     "execution_count": 262,
     "metadata": {},
     "output_type": "execute_result"
    }
   ],
   "source": [
    "bestF.best_params_"
   ]
  },
  {
   "cell_type": "code",
   "execution_count": 379,
   "id": "7fb0b2fc",
   "metadata": {},
   "outputs": [
    {
     "name": "stdout",
     "output_type": "stream",
     "text": [
      "Accuracy:  0.5116279069767442\n"
     ]
    }
   ],
   "source": [
    "model = DecisionTreeClassifier(criterion= 'gini', max_depth= None,min_samples_leaf=7)\n",
    "model.fit(features_train, labels_train)\n",
    "model_predictions = model.predict(features_test)\n",
    "print('Accuracy: ', accuracy_score(labels_test, model_predictions))"
   ]
  },
  {
   "cell_type": "markdown",
   "id": "d77f7bac",
   "metadata": {},
   "source": [
    "### GaussianNB (sans et avec optimization)"
   ]
  },
  {
   "cell_type": "code",
   "execution_count": 268,
   "id": "ef65fbd1",
   "metadata": {},
   "outputs": [
    {
     "name": "stdout",
     "output_type": "stream",
     "text": [
      "La moyenne de 10 Accuracy Test (GaussianNB):  0.7674418604651162\n"
     ]
    }
   ],
   "source": [
    "s=0\n",
    "for i in range(0,10):  \n",
    "    model = GaussianNB()\n",
    "    model.fit(features_train, labels_train)\n",
    "    model_predictions = model.predict(features_test)\n",
    "    acc=accuracy_score(labels_test, model_predictions)\n",
    "    s=s+acc\n",
    "accGaussianNB=s/10\n",
    "print('La moyenne de 10 Accuracy Test (GaussianNB): ', accGaussianNB)"
   ]
  },
  {
   "cell_type": "code",
   "execution_count": 269,
   "id": "4ae384a6",
   "metadata": {},
   "outputs": [
    {
     "data": {
      "text/plain": [
       "{'priors': None, 'var_smoothing': 1e-09}"
      ]
     },
     "execution_count": 269,
     "metadata": {},
     "output_type": "execute_result"
    }
   ],
   "source": [
    "model.get_params()"
   ]
  },
  {
   "cell_type": "code",
   "execution_count": 275,
   "id": "e16841e8",
   "metadata": {},
   "outputs": [
    {
     "name": "stdout",
     "output_type": "stream",
     "text": [
      "Fitting 3 folds for each of 3 candidates, totalling 9 fits\n"
     ]
    },
    {
     "name": "stderr",
     "output_type": "stream",
     "text": [
      "[Parallel(n_jobs=1)]: Using backend SequentialBackend with 1 concurrent workers.\n",
      "[Parallel(n_jobs=1)]: Done   9 out of   9 | elapsed:    0.0s finished\n"
     ]
    }
   ],
   "source": [
    "import numpy as np\n",
    "\n",
    "from scipy.stats import randint\n",
    "from sklearn.model_selection import GridSearchCV,RandomizedSearchCV\n",
    "\n",
    "model = GaussianNB()\n",
    "\n",
    "parameters = {\n",
    "    'priors': [None],\n",
    "    'var_smoothing': [0.00000001, 0.000000001, 0.00000001]\n",
    "}\n",
    "\n",
    "gridF = GridSearchCV(model, param_grid=parameters, cv = 3, verbose = 1)\n",
    "bestF = gridF.fit(features_train, labels_train)\n"
   ]
  },
  {
   "cell_type": "code",
   "execution_count": 276,
   "id": "ba442937",
   "metadata": {},
   "outputs": [
    {
     "data": {
      "text/plain": [
       "{'priors': None, 'var_smoothing': 1e-08}"
      ]
     },
     "execution_count": 276,
     "metadata": {},
     "output_type": "execute_result"
    }
   ],
   "source": [
    "bestF.best_params_"
   ]
  },
  {
   "cell_type": "code",
   "execution_count": 278,
   "id": "fff2f7f5",
   "metadata": {},
   "outputs": [
    {
     "name": "stdout",
     "output_type": "stream",
     "text": [
      "La moyenne de 10 Accuracy Test (GaussianNB avec Grid Search):  0.7674418604651162\n"
     ]
    }
   ],
   "source": [
    "s=0\n",
    "for i in range(0,10):  \n",
    "    model =GaussianNB(priors=None, var_smoothing= 1e-08)\n",
    "    model.fit(features_train, labels_train)\n",
    "    model_predictions = model.predict(features_test)\n",
    "    acc=accuracy_score(labels_test, model_predictions)\n",
    "    s=s+acc\n",
    "accGaussianNB=s/10\n",
    "print('La moyenne de 10 Accuracy Test (GaussianNB avec Grid Search): ', accGaussianNB)"
   ]
  },
  {
   "cell_type": "markdown",
   "id": "f7edbaa1",
   "metadata": {},
   "source": [
    "### SVC"
   ]
  },
  {
   "cell_type": "code",
   "execution_count": 395,
   "id": "0e041c33",
   "metadata": {},
   "outputs": [
    {
     "name": "stdout",
     "output_type": "stream",
     "text": [
      "La moyenne de 10 Accuracy Test (SVC):  0.7209302325581394\n"
     ]
    }
   ],
   "source": [
    "s=0\n",
    "for i in range(0,10):  \n",
    "    model = SVC()\n",
    "    model.fit(features_train, labels_train)\n",
    "    model_predictions = model.predict(features_test)\n",
    "    acc=accuracy_score(labels_test, model_predictions)\n",
    "    s=s+acc\n",
    "accSVC=s/10\n",
    "print('La moyenne de 10 Accuracy Test (SVC): ', accSVC)"
   ]
  },
  {
   "cell_type": "code",
   "execution_count": 397,
   "id": "48106ad7",
   "metadata": {},
   "outputs": [
    {
     "data": {
      "text/html": [
       "<div>\n",
       "<style scoped>\n",
       "    .dataframe tbody tr th:only-of-type {\n",
       "        vertical-align: middle;\n",
       "    }\n",
       "\n",
       "    .dataframe tbody tr th {\n",
       "        vertical-align: top;\n",
       "    }\n",
       "\n",
       "    .dataframe thead th {\n",
       "        text-align: right;\n",
       "    }\n",
       "</style>\n",
       "<table border=\"1\" class=\"dataframe\">\n",
       "  <thead>\n",
       "    <tr style=\"text-align: right;\">\n",
       "      <th></th>\n",
       "      <th>Model</th>\n",
       "      <th>Test accuracy</th>\n",
       "    </tr>\n",
       "  </thead>\n",
       "  <tbody>\n",
       "    <tr>\n",
       "      <th>3</th>\n",
       "      <td>Logistic Regression Grid Search</td>\n",
       "      <td>0.813953</td>\n",
       "    </tr>\n",
       "    <tr>\n",
       "      <th>7</th>\n",
       "      <td>Gaussain NB</td>\n",
       "      <td>0.767442</td>\n",
       "    </tr>\n",
       "    <tr>\n",
       "      <th>5</th>\n",
       "      <td>KNN Grid Search</td>\n",
       "      <td>0.744186</td>\n",
       "    </tr>\n",
       "    <tr>\n",
       "      <th>0</th>\n",
       "      <td>Random Forest</td>\n",
       "      <td>0.737209</td>\n",
       "    </tr>\n",
       "    <tr>\n",
       "      <th>1</th>\n",
       "      <td>Random Forest Grid Search</td>\n",
       "      <td>0.723256</td>\n",
       "    </tr>\n",
       "    <tr>\n",
       "      <th>2</th>\n",
       "      <td>Logistic Regression</td>\n",
       "      <td>0.720930</td>\n",
       "    </tr>\n",
       "    <tr>\n",
       "      <th>8</th>\n",
       "      <td>SVC</td>\n",
       "      <td>0.720930</td>\n",
       "    </tr>\n",
       "    <tr>\n",
       "      <th>4</th>\n",
       "      <td>KNN</td>\n",
       "      <td>0.697674</td>\n",
       "    </tr>\n",
       "    <tr>\n",
       "      <th>6</th>\n",
       "      <td>Decision Tree Classifier</td>\n",
       "      <td>0.513953</td>\n",
       "    </tr>\n",
       "  </tbody>\n",
       "</table>\n",
       "</div>"
      ],
      "text/plain": [
       "                             Model  Test accuracy\n",
       "3  Logistic Regression Grid Search       0.813953\n",
       "7                      Gaussain NB       0.767442\n",
       "5                  KNN Grid Search       0.744186\n",
       "0                    Random Forest       0.737209\n",
       "1        Random Forest Grid Search       0.723256\n",
       "2              Logistic Regression       0.720930\n",
       "8                              SVC       0.720930\n",
       "4                              KNN       0.697674\n",
       "6         Decision Tree Classifier       0.513953"
      ]
     },
     "execution_count": 397,
     "metadata": {},
     "output_type": "execute_result"
    }
   ],
   "source": [
    "performance_list=[] \n",
    "performance_list.append(['Random Forest',accRF])\n",
    "performance_list.append(['Random Forest Grid Search', accRFGridSearch])\n",
    "performance_list.append(['Logistic Regression',accLR])\n",
    "performance_list.append(['Logistic Regression Grid Search',accLRGridSearch])\n",
    "performance_list.append(['KNN',accKNN])\n",
    "performance_list.append(['KNN Grid Search', accKNNGridSearch])\n",
    "performance_list.append(['Decision Tree Classifier',accDT])\n",
    "performance_list.append(['Gaussain NB',accGaussianNB])\n",
    "performance_list.append(['SVC',accSVC])\n",
    "\n",
    "\n",
    "model_performance = pd.DataFrame(data=performance_list)\n",
    "model_performance.columns=['Model','Test accuracy']\n",
    "model_performance.sort_values(by=['Test accuracy'],ascending=False)"
   ]
  },
  {
   "cell_type": "markdown",
   "id": "a592614b",
   "metadata": {},
   "source": [
    "### doc2vec"
   ]
  },
  {
   "cell_type": "code",
   "execution_count": 203,
   "id": "c1c9cc49",
   "metadata": {
    "scrolled": true
   },
   "outputs": [
    {
     "name": "stdout",
     "output_type": "stream",
     "text": [
      "Requirement already up-to-date: gensim in c:\\users\\admin\\anaconda3\\lib\\site-packages (4.2.0)\n",
      "Requirement already satisfied, skipping upgrade: smart-open>=1.8.1 in c:\\users\\admin\\anaconda3\\lib\\site-packages (from gensim) (5.2.1)\n",
      "Requirement already satisfied, skipping upgrade: Cython==0.29.28 in c:\\users\\admin\\anaconda3\\lib\\site-packages (from gensim) (0.29.28)\n",
      "Requirement already satisfied, skipping upgrade: numpy>=1.17.0 in c:\\users\\admin\\anaconda3\\lib\\site-packages (from gensim) (1.19.2)\n",
      "Requirement already satisfied, skipping upgrade: scipy>=0.18.1 in c:\\users\\admin\\anaconda3\\lib\\site-packages (from gensim) (1.5.2)\n"
     ]
    }
   ],
   "source": [
    "!pip install -U gensim"
   ]
  },
  {
   "cell_type": "code",
   "execution_count": 282,
   "id": "11409277",
   "metadata": {},
   "outputs": [],
   "source": [
    "import pandas as pd\n",
    "import matplotlib.pyplot as plt\n",
    "import pickle\n",
    "import seaborn as sns\n",
    "import nltk\n",
    "from nltk.corpus import stopwords\n",
    "\n",
    "from nltk.stem import WordNetLemmatizer\n",
    "from sklearn.feature_extraction.text import TfidfVectorizer\n",
    "from sklearn.model_selection import train_test_split\n",
    "from sklearn.metrics import accuracy_score, classification_report\n",
    "from sklearn.linear_model import LogisticRegression\n",
    "from sklearn.tree import DecisionTreeClassifier\n",
    "from sklearn.neighbors import KNeighborsClassifier\n",
    "from sklearn.discriminant_analysis import LinearDiscriminantAnalysis\n",
    "from sklearn.naive_bayes import GaussianNB\n",
    "from sklearn.svm import SVC\n",
    "from nltk.tokenize import word_tokenize \n",
    "\n",
    "import re\n",
    "import warnings\n",
    "warnings.filterwarnings(\"ignore\")"
   ]
  },
  {
   "cell_type": "code",
   "execution_count": 398,
   "id": "24711b72",
   "metadata": {},
   "outputs": [
    {
     "name": "stdout",
     "output_type": "stream",
     "text": [
      "                                             Article  Categorie\n",
      "0  célébration rabat capital culture africain avo...          0\n",
      "1  production société national radiodiffusion tél...          0\n",
      "2  fondation sauvegard patrimoine culturel rabat ...          0\n",
      "3  présidence ministère public participer deuxièm...          0\n",
      "4  centre régional arabe patrimoine mondial arc w...          0\n"
     ]
    }
   ],
   "source": [
    "bbc = pd.DataFrame()\n",
    "bbc['Article'] = dataset['Article']\n",
    "bbc['Categorie'] = dataset['CategoryId']\n",
    "print(bbc.head())\n",
    "from tqdm import tqdm\n",
    "tqdm.pandas(desc=\"progress-bar\")\n",
    "from gensim.models import Doc2Vec\n",
    "from sklearn import utils\n",
    "import gensim\n",
    "from gensim.models.doc2vec import TaggedDocument\n",
    "import re\n",
    "\n",
    "def label_sentences(corpus, label_type):   \n",
    "    labeled = []\n",
    "    for i, v in enumerate(corpus):\n",
    "        label = label_type + '_' + str(i)\n",
    "        labeled.append(TaggedDocument(v.split(), [label]))\n",
    "    \n",
    "    return labeled\n",
    "\n",
    "X_train, X_test, y_train, y_test = train_test_split(bbc.Article, bbc.Categorie, random_state=0, test_size=0.3)\n",
    "\n",
    "X_train = label_sentences(X_train, 'Train')\n",
    "X_test = label_sentences(X_test, 'Test')\n",
    "all_data = X_train + X_test"
   ]
  },
  {
   "cell_type": "code",
   "execution_count": 312,
   "id": "624b07cc",
   "metadata": {},
   "outputs": [
    {
     "data": {
      "text/plain": [
       "[TaggedDocument(words=['ancien', 'ministre', 'affaire', 'étranger', 'espagnol', 'arancha', 'gonzalez', 'laya', 'réjouir', 'justice', 'espagnol', 'enterre', 'affaire', 'ghali', 'après', '1', 'an', 'enquête', 'dossier', 'judiciaire', 'selon', 'jamais', 'devoir', 'être', 'ouvrir', 'dont', 'conséquence', 'brouiller', 'décision', 'strictement', 'humanitaire', 'clore', 'aussi', 'après', 'avoir', 'apprendre', 'disculpée', 'avoir', 'vite', 'faire', 'déclarer', 'entretien', 'carlos', 'alsina', 'onder', 'cero', 'si', 'refaire', 'hésiter', 'recommencer', 'raison', 'humanitaire', 'bien', 'sûr', 'referai', 'car', 'adn', 'société', 'espagnol', 'tradition', 'humanitaire', 'cer', 'comme', 'tant', 'autre', 'avoir', 'répondre', 'ancien', 'ministre', 'affaire', 'étranger', 'espagnol', 'ghaligat', 'venir', 'être', 'classer', 'justice', 'espagnol', 'avoir', 'estimer', 'entrée', 'illégal', 'chef', 'milice', 'polisario', 'espagne', 'act', 'politique', 'gouvernemental', 'lier', 'sécurité', 'extérieur', 'espagne', 'verdict', 'attendre', 'demeurer', 'reconnaître', 'aucun', 'membre', 'gouvernement', 'espagnol', 'ombre', 'quelconque', 'responsabilité', 'avoir', 'rendre', 'justice', 'espagnol', 'privilégier', 'sécurité', 'extérieur', 'espagne', 'détrimer', 'droit', 'avoir', 'évoquer', 'tribunal', 'saragosse', 'dernier', 'avoir', 'classer', 'dossier', 'an', 'après', 'chef', 'tribunal', 'instruction', 'numéro', '7', 'capital', 'aragonaise', 'rafael', 'lasala', 'aligner', 'sens', 'ministère', 'public', 'parquet', 'avoir', 'faire', 'demande', 'exécutif', 'espagnol', 'coup', 'plus', 'embarras', 'poursuivre', 'ancien', 'cheffe', 'diplomati', 'arancha', 'laya', 'gonzale', 'avantager', 'dernier', 'juridiction', 'avoir', 'faire', 'valoir', 'admis', 'chef', 'gouvernement', 'pedro', 'sánchez', 'avoir', 'ordonner', 'adoption', 'mesure', 'approprier', 'ghali', 'pouvoir', 'entrer', 'espagne', 'cela', 'signifier', 'arancha', 'laya', 'chef', 'cabinet', 'villarino', 'savoir', 'haute', 'cour', 'nacional', 'intéresser', 'emplacemer', 'être', 'entendre', 'cadre', 'enquête', 'avoir', 'décider', 'cacher', 'tribunal', 'enquête', 'entrée', 'espagne', '18', 'avril', '2021', 'celui', 'lequel', 'petit', 'béguin', 'arancha', 'gonzalez', 'laya', 'pouvoir', 'plus', 'évident', 'donc', 'refermer', 'hier', 'dernier', 'chapitre', 'tribunal', 'provincial', 'capital', 'aragonaise', 'avoir', 'ainsi', 'épargner', 'ancien', 'ministre', 'affaire', 'étranger', 'espagnol', 'arancha', 'gonzáler', 'laya', 'asseoir', 'banc', 'expliquer', 'circonstance', 'entourer', 'arriver', 'ghali', 'inutile', 'rappeler', 'faire', 'entraîner', 'grave', 'crise', 'diplomatique', 'maroc', 'dernier', 'complétement', 'dissiper', 'revirement', 'espagne', 'envers', 'marocanité', 'sahara', 'ceci', 'dire', 'tribunal', 'présider', 'magistrat', 'josé', 'luis', 'ramo', 'avoir', 'conclure', 'avoir', 'aucun', 'indication', 'permettre', 'conclure', 'ministre', 'époque', 'connaissait', 'existence', 'intérêt', 'judiciaire', 'égard', 'chef', 'polisario', 'bref', 'tribunal', 'soutient', 'décision', 'accueillir', 'brahim', 'ghali', 'avoir', 'hospitaliser', 'sous', 'nom', 'emprunt', 'algérien', 'mohamed', 'ben', 'batouche', 'opération', 'démontre', 'gouvernement', 'madrid', 'faire', 'politique', 'extérieur', 'plateform', 'où', 'plus', 'agile', 'avoir', 'chance', 'arriver', 'premier', 'cela', 'gonzalez', 'laya', 'rattraper', 'non', 'justice', 'vox', 'populi', 'avoir', 'tenir', 'être', 'prudent', 'spéculer', 'plus', 'guère', 'effronté', 'avoir', 'quand', 'insister', 'bon', 'démagogue', 'danger', 'politiser', 'justice', 'judiciariser', 'politique', 'selon', 'mettre', 'péril', 'soliditer', 'démocratie'], tags=['Train_0']),\n",
       " TaggedDocument(words=['mois', 'mai', 'fondation', 'ali', 'zaoua', 'célèbre', '13èm', 'anniversaire', 'celui', 'premier', 'centre', 'étoile', 'sidi', 'moumen', '16', 'mai', 'date', 'tragique', 'marquera', 'longtemps', 'mémoir', 'collectif', 'après', 'attentats', '2003', 'fondation', 'inscrire', 'comme', 'début', 'bel', 'histoire', 'celui', 'jeunesse', 'mérite', 'être', 'voir', 'sous', 'nouveau', 'jour', 'grâce', 'talent', 'potentiel', 'créatif', 'célébrer', 'autrement', 'date', 'commémoratif', 'fondation', 'ali', 'zaoua', 'organis', 'chaque', 'année', 'véritable', 'explosion', 'créatif', 'événement', 'festif', 'placer', 'sous', 'signe', 'innovation', 'découverte', 'spectacle', 'théâtre', 'exposition', 'rencontre', 'centre', 'fondation', 'ali', 'zaoua', 'célébreront', 'ensemble', 'créativité', 'travers', 'programmation', 'diversifier', 'public', 'ainsi', 'rendez', 'lundi', '16', 'centre', 'étoile', 'sidi', 'moumen', 'spectacle', 'théâtral', 'chorégraphique', 'transe', 'assister', 'processus', 'théâtral', 'immersif', 'numérique', 'physique', 'produit', '100', 'fondation', 'ali', 'zaoua', 'également', 'question', 'final', 'région', 'caser', 'rabat', 'ligue', 'national', 'improvisation', 'théâtral', 'nojoum', 'jeudi', '20', 'centre', 'culturel', 'etoile', 'sidi', 'moumen', 'exposition', 'photographique', 'entr', 'acte', '12', 'mai', '5', 'juin', 'passage', 'souterrain', 'coupe', 'zevaco', 'cadr', 'journer', 'patrimoine', 'casablanca', 'retour', '11èm', 'édition', 'après', 'deux', 'an', 'arrêt', 'raison', 'sanitaire', 'programm', 'anniversaire', 'propose', 'aussi', 'vernissag', 'exposition', 'oeuvre', 'réaliser', 'lors', 'résidence', 'artiste', 'plasticien', 'hicham', 'el', 'mechmach', 'samedi', '21', 'mai', 'etoile', 'sous', 'show', 'beni', 'makada', 'next', 'génération', 'dimanche', '22', 'etoile', 'détroit', 'nouveau', 'résidence', 'création', 'théâtral', 'baptiser', 'ana', 'hiya', 'jusqu', '30', 'mai', 'etoile', 'médiner', 'fès', 'outre', 'tournée', 'littéraire', 'omar', 'fertat', 'muhamad', 'sef', 'mènera', 'agadir', 'marrakech', 'casablanca', 'fès', 'cadr', 'journée', 'national', 'théâtre', 'cre', 'e', 'e', '2009', 're', 'alisateur', 'marocain', 'nabil', 'ayouch', 'fondation', 'ali', 'zaoua', 'e', 'volont', 'reconnecter', 'habitant', 'quartiers', 'favorise', 'grand', 'tropole', 'rest', 'population', 'volont', 'partage', 'e', 'e', 'galement', 'artiste', 'peintr', 'romancier', 'mahi', 'binebine', 'aussi', 'issu', 'vieux', 'quartiers', 'dina', 'marrakech', 'rejoindre', 'projet', 'cours', 'rout'], tags=['Train_1'])]"
      ]
     },
     "execution_count": 312,
     "metadata": {},
     "output_type": "execute_result"
    }
   ],
   "source": [
    "all_data[0:2]"
   ]
  },
  {
   "cell_type": "code",
   "execution_count": 313,
   "id": "fea23918",
   "metadata": {},
   "outputs": [
    {
     "name": "stderr",
     "output_type": "stream",
     "text": [
      "100%|██████████| 142/142 [00:00<?, ?it/s]\n",
      "100%|██████████| 142/142 [00:00<?, ?it/s]\n",
      "100%|██████████| 142/142 [00:00<00:00, 141706.20it/s]\n",
      "100%|██████████| 142/142 [00:00<?, ?it/s]\n",
      "100%|██████████| 142/142 [00:00<00:00, 71039.02it/s]\n",
      "100%|██████████| 142/142 [00:00<00:00, 142010.29it/s]\n",
      "100%|██████████| 142/142 [00:00<00:00, 141874.98it/s]\n",
      "100%|██████████| 142/142 [00:00<00:00, 142078.05it/s]\n",
      "100%|██████████| 142/142 [00:00<00:00, 133420.96it/s]\n",
      "100%|██████████| 142/142 [00:00<00:00, 141739.93it/s]\n",
      "100%|██████████| 142/142 [00:00<00:00, 70937.49it/s]\n",
      "100%|██████████| 142/142 [00:00<00:00, 47295.42it/s]\n",
      "100%|██████████| 142/142 [00:00<00:00, 142044.16it/s]\n",
      "100%|██████████| 142/142 [00:00<00:00, 141976.44it/s]\n",
      "100%|██████████| 142/142 [00:00<00:00, 145514.58it/s]\n",
      "100%|██████████| 142/142 [00:00<?, ?it/s]\n",
      "100%|██████████| 142/142 [00:00<00:00, 142044.16it/s]\n",
      "100%|██████████| 142/142 [00:00<00:00, 142044.16it/s]\n",
      "100%|██████████| 142/142 [00:00<00:00, 146625.10it/s]\n",
      "100%|██████████| 142/142 [00:00<00:00, 141739.93it/s]\n",
      "100%|██████████| 142/142 [00:00<00:00, 142078.05it/s]\n",
      "100%|██████████| 142/142 [00:00<00:00, 147023.25it/s]\n",
      "100%|██████████| 142/142 [00:00<?, ?it/s]\n",
      "100%|██████████| 142/142 [00:00<?, ?it/s]\n",
      "100%|██████████| 142/142 [00:00<00:00, 138574.03it/s]\n",
      "100%|██████████| 142/142 [00:00<00:00, 144455.78it/s]\n",
      "100%|██████████| 142/142 [00:00<00:00, 142656.57it/s]\n",
      "100%|██████████| 142/142 [00:00<00:00, 142827.62it/s]\n",
      "100%|██████████| 142/142 [00:00<?, ?it/s]\n",
      "100%|██████████| 142/142 [00:00<00:00, 142759.15it/s]\n",
      "100%|██████████| 142/142 [00:00<00:00, 47654.92it/s]\n"
     ]
    }
   ],
   "source": [
    "model_dbow = Doc2Vec(dm=0, vector_size=300, negative=5, min_count=1, alpha=0.065, min_alpha=0.065)\n",
    "model_dbow.build_vocab([x for x in tqdm(all_data)])\n",
    "\n",
    "for epoch in range(30):\n",
    "    model_dbow.train(utils.shuffle([x for x in tqdm(all_data)]), total_examples=len(all_data), epochs=1)\n",
    "    model_dbow.alpha -= 0.002\n",
    "    model_dbow.min_alpha = model_dbow.alpha"
   ]
  },
  {
   "cell_type": "code",
   "execution_count": 314,
   "id": "4a969880",
   "metadata": {},
   "outputs": [],
   "source": [
    "import numpy as np\n",
    "def get_vectors(model, corpus_size, vectors_size, vectors_type):\n",
    "    \n",
    "    vectors = np.zeros((corpus_size, vectors_size))\n",
    "    for i in range(0, corpus_size):\n",
    "        prefix = vectors_type + '_' + str(i)\n",
    "        vectors[i] = model.docvecs[prefix]\n",
    "    return vectors\n",
    "    \n",
    "train_vectors_dbow = get_vectors(model_dbow, len(X_train), 300, 'Train')\n",
    "test_vectors_dbow = get_vectors(model_dbow, len(X_test), 300, 'Test')"
   ]
  },
  {
   "cell_type": "markdown",
   "id": "a96d2338",
   "metadata": {},
   "source": [
    "### Test sur algorithme Logistic Regression"
   ]
  },
  {
   "cell_type": "code",
   "execution_count": 348,
   "id": "3de619a7",
   "metadata": {},
   "outputs": [
    {
     "name": "stdout",
     "output_type": "stream",
     "text": [
      "La moyenne de 10 Accuracy Test (Logistic Regression Doc2vec):  0.7674418604651162\n"
     ]
    }
   ],
   "source": [
    "s=0\n",
    "for i in range(0,10):  \n",
    "    model = LogisticRegression(n_jobs=1, C=1e5)\n",
    "    model = model.fit(train_vectors_dbow, y_train)\n",
    "    model_prediction = model.predict(test_vectors_dbow)\n",
    "    acc=accuracy_score(model_prediction, y_test)\n",
    "    s=s+acc\n",
    "accLRdoc2vec=s/10\n",
    "print('La moyenne de 10 Accuracy Test (Logistic Regression Doc2vec): ', accLRdoc2vec)"
   ]
  },
  {
   "cell_type": "markdown",
   "id": "548667c8",
   "metadata": {},
   "source": [
    "### Comparaison entre les algorithmes"
   ]
  },
  {
   "cell_type": "code",
   "execution_count": 389,
   "id": "cab4b079",
   "metadata": {},
   "outputs": [
    {
     "data": {
      "text/html": [
       "<div>\n",
       "<style scoped>\n",
       "    .dataframe tbody tr th:only-of-type {\n",
       "        vertical-align: middle;\n",
       "    }\n",
       "\n",
       "    .dataframe tbody tr th {\n",
       "        vertical-align: top;\n",
       "    }\n",
       "\n",
       "    .dataframe thead th {\n",
       "        text-align: right;\n",
       "    }\n",
       "</style>\n",
       "<table border=\"1\" class=\"dataframe\">\n",
       "  <thead>\n",
       "    <tr style=\"text-align: right;\">\n",
       "      <th></th>\n",
       "      <th>Model</th>\n",
       "      <th>Test accuracy</th>\n",
       "    </tr>\n",
       "  </thead>\n",
       "  <tbody>\n",
       "    <tr>\n",
       "      <th>3</th>\n",
       "      <td>Logistic Regression Grid Search</td>\n",
       "      <td>0.813953</td>\n",
       "    </tr>\n",
       "    <tr>\n",
       "      <th>7</th>\n",
       "      <td>Gaussain NB</td>\n",
       "      <td>0.767442</td>\n",
       "    </tr>\n",
       "    <tr>\n",
       "      <th>9</th>\n",
       "      <td>Logistic Regression Doc2vec</td>\n",
       "      <td>0.767442</td>\n",
       "    </tr>\n",
       "    <tr>\n",
       "      <th>5</th>\n",
       "      <td>KNN Grid Search</td>\n",
       "      <td>0.744186</td>\n",
       "    </tr>\n",
       "    <tr>\n",
       "      <th>0</th>\n",
       "      <td>Random Forest</td>\n",
       "      <td>0.737209</td>\n",
       "    </tr>\n",
       "    <tr>\n",
       "      <th>1</th>\n",
       "      <td>Random Forest Grid Search</td>\n",
       "      <td>0.723256</td>\n",
       "    </tr>\n",
       "    <tr>\n",
       "      <th>2</th>\n",
       "      <td>Logistic Regression</td>\n",
       "      <td>0.720930</td>\n",
       "    </tr>\n",
       "    <tr>\n",
       "      <th>8</th>\n",
       "      <td>SVC</td>\n",
       "      <td>0.720930</td>\n",
       "    </tr>\n",
       "    <tr>\n",
       "      <th>4</th>\n",
       "      <td>KNN</td>\n",
       "      <td>0.697674</td>\n",
       "    </tr>\n",
       "    <tr>\n",
       "      <th>6</th>\n",
       "      <td>Decision Tree Classifier</td>\n",
       "      <td>0.513953</td>\n",
       "    </tr>\n",
       "  </tbody>\n",
       "</table>\n",
       "</div>"
      ],
      "text/plain": [
       "                             Model  Test accuracy\n",
       "3  Logistic Regression Grid Search       0.813953\n",
       "7                      Gaussain NB       0.767442\n",
       "9      Logistic Regression Doc2vec       0.767442\n",
       "5                  KNN Grid Search       0.744186\n",
       "0                    Random Forest       0.737209\n",
       "1        Random Forest Grid Search       0.723256\n",
       "2              Logistic Regression       0.720930\n",
       "8                              SVC       0.720930\n",
       "4                              KNN       0.697674\n",
       "6         Decision Tree Classifier       0.513953"
      ]
     },
     "execution_count": 389,
     "metadata": {},
     "output_type": "execute_result"
    }
   ],
   "source": [
    "performance_list=[] \n",
    "performance_list.append(['Random Forest',accRF])\n",
    "performance_list.append(['Random Forest Grid Search', accRFGridSearch])\n",
    "performance_list.append(['Logistic Regression',accLR])\n",
    "performance_list.append(['Logistic Regression Grid Search',accLRGridSearch])\n",
    "performance_list.append(['KNN',accKNN])\n",
    "performance_list.append(['KNN Grid Search', accKNNGridSearch])\n",
    "performance_list.append(['Decision Tree Classifier',accDT])\n",
    "performance_list.append(['Gaussain NB',accGaussianNB])\n",
    "performance_list.append(['SVC',accSVC])\n",
    "performance_list.append(['Logistic Regression Doc2vec',accLRdoc2vec])\n",
    "\n",
    "\n",
    "model_performance = pd.DataFrame(data=performance_list)\n",
    "model_performance.columns=['Model','Test accuracy']\n",
    "model_performance.sort_values(by=['Test accuracy'],ascending=False)"
   ]
  },
  {
   "cell_type": "code",
   "execution_count": null,
   "id": "56551df1",
   "metadata": {},
   "outputs": [],
   "source": []
  }
 ],
 "metadata": {
  "kernelspec": {
   "display_name": "Python 3 (ipykernel)",
   "language": "python",
   "name": "python3"
  },
  "language_info": {
   "codemirror_mode": {
    "name": "ipython",
    "version": 3
   },
   "file_extension": ".py",
   "mimetype": "text/x-python",
   "name": "python",
   "nbconvert_exporter": "python",
   "pygments_lexer": "ipython3",
   "version": "3.9.7"
  }
 },
 "nbformat": 4,
 "nbformat_minor": 5
}
